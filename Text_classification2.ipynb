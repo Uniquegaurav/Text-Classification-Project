{
 "cells": [
  {
   "cell_type": "markdown",
   "metadata": {},
   "source": [
    "**IMPORTING REQUIRED LIBRARIES**"
   ]
  },
  {
   "cell_type": "code",
   "execution_count": 1,
   "metadata": {},
   "outputs": [],
   "source": [
    "import pandas as pd\n",
    "import numpy as np\n",
    "import os, sys\n",
    "import re\n",
    "import operator\n",
    "from sklearn.model_selection import train_test_split\n",
    "from collections import OrderedDict \n",
    "import matplotlib.pyplot as plt\n",
    "from sklearn.metrics import classification_report\n",
    "from sklearn.metrics import confusion_matrix\n",
    "from sklearn.naive_bayes import MultinomialNB"
   ]
  },
  {
   "cell_type": "markdown",
   "metadata": {},
   "source": [
    "**EXTRACTING DATA**\n"
   ]
  },
  {
   "cell_type": "code",
   "execution_count": 2,
   "metadata": {},
   "outputs": [],
   "source": [
    "# extracting all data from tar file (20_newsgroups.tar.gz) to a folder (Documents_data)\n",
    "#import tarfile\n",
    "#my_tar = tarfile.open('20_newsgroups.tar.gz')\n",
    "#my_tar.extractall('./Documents_data') # specify which folder to extract to\n",
    "#my_tar.close()"
   ]
  },
  {
   "cell_type": "markdown",
   "metadata": {},
   "source": [
    "**COLLECTING DATA IN  'X'  AND  'Y'  FORM**"
   ]
  },
  {
   "cell_type": "code",
   "execution_count": 3,
   "metadata": {},
   "outputs": [],
   "source": [
    "X  =[] \n",
    "Y = []\n",
    "for category in os.listdir(\"Documents_data/20_newsgroups\"):\n",
    "    for document in os.listdir(\"Documents_data/20_newsgroups/\"+category):\n",
    "        with open(\"Documents_data/20_newsgroups/\"+category+'/'+document, \"r\") as f:\n",
    "            X.append(f.read())\n",
    "            Y.append(category)"
   ]
  },
  {
   "cell_type": "markdown",
   "metadata": {},
   "source": [
    "**ADDING STOP WORDS**\n"
   ]
  },
  {
   "cell_type": "code",
   "execution_count": 4,
   "metadata": {},
   "outputs": [],
   "source": [
    "stop_words = [\n",
    "\"a\", \"about\", \"above\", \"across\", \"after\", \"afterwards\", \n",
    "\"again\", \"all\", \"almost\", \"alone\", \"along\", \"already\", \"also\",    \n",
    "\"although\", \"always\", \"am\", \"among\", \"amongst\", \"amoungst\", \"amount\", \"an\",\n",
    "\"and\", \"another\", \"any\", \"anyhow\", \"anyone\", \"anything\", \"anyway\", \"anywhere\", \"are\", \"as\", \n",
    "\"at\", \"be\", \"became\", \"because\", \"become\",\"becomes\", \"becoming\", \"been\", \"before\", \"behind\", \n",
    "\"being\", \"beside\", \"besides\", \"between\", \"beyond\", \"both\", \"but\", \"by\",\"can\", \"cannot\", \"cant\", \n",
    "\"could\", \"couldnt\", \"de\", \"describe\", \"do\", \"done\", \"each\", \"eg\", \"either\", \"else\", \"enough\", \"etc\", \n",
    "\"even\", \"ever\", \"every\", \"everyone\", \"everything\", \"everywhere\", \"except\", \"few\", \"find\",\"for\",\"found\",\n",
    "\"four\", \"from\", \"further\", \"get\", \"give\", \"go\", \"had\", \"has\", \"hasnt\", \"have\", \"he\", \"hence\", \"her\", \"here\", \n",
    "\"hereafter\", \"hereby\", \"herein\", \"hereupon\", \"hers\", \"herself\", \"him\", \"himself\", \"his\", \"how\", \"however\", \"i\", \n",
    "\"ie\", \"if\", \"in\", \"indeed\", \"is\", \"it\", \"its\", \"itself\", \"keep\", \"least\", \"less\", \"ltd\", \"made\", \"many\", \"may\", \n",
    "\"me\", \"meanwhile\", \"might\", \"mine\", \"more\", \"moreover\", \"most\", \"mostly\", \"much\", \"must\", \"my\", \"myself\", \"name\", \n",
    "\"namely\", \"neither\", \"never\", \"nevertheless\", \"next\",\"no\", \"nobody\", \"none\", \"noone\", \"nor\", \"not\", \"nothing\", \"now\",\n",
    "\"nowhere\", \"of\", \"off\", \"often\", \"on\", \"once\", \"one\", \"only\", \"onto\", \"or\", \"other\", \"others\", \"otherwise\", \"our\", \"ours\",\n",
    "\"ourselves\", \"out\", \"over\", \"own\", \"part\",\"perhaps\", \"please\", \"put\", \"rather\", \"re\", \"same\", \"see\", \"seem\", \"seemed\", \n",
    "\"seeming\", \"seems\", \"she\", \"should\",\"since\", \"sincere\",\"so\", \"some\", \"somehow\", \"someone\", \"something\", \"sometime\", \n",
    "\"sometimes\", \"somewhere\", \"still\", \"such\", \"take\",\"than\", \"that\", \"the\", \"their\", \"them\", \"themselves\", \"then\",\n",
    "\"thence\", \"there\", \"thereafter\", \"thereby\", \"therefore\", \"therein\", \"thereupon\", \"these\", \"they\",\n",
    "\"this\", \"those\", \"though\", \"through\", \"throughout\", \"thru\", \"thus\", \"to\", \"together\", \"too\", \"toward\", \"towards\",\n",
    "\"under\", \"until\", \"up\", \"upon\", \"us\",\"very\", \"was\", \"we\", \"well\", \"were\", \"what\", \"whatever\", \"when\",\n",
    "\"whence\", \"whenever\", \"where\", \"whereafter\", \"whereas\", \"whereby\",\n",
    "\"wherein\", \"whereupon\", \"wherever\", \"whether\", \"which\", \"while\", \n",
    "\"who\", \"whoever\", \"whom\", \"whose\", \"why\", \"will\", \"with\",\n",
    "\"within\", \"without\", \"would\", \"yet\", \"you\", \"your\", \"yours\", \"yourself\", \"yourselves\"\n",
    "]"
   ]
  },
  {
   "cell_type": "markdown",
   "metadata": {},
   "source": [
    "**SPLITING DATA INTO TRAINING AND TASTING**\n"
   ]
  },
  {
   "cell_type": "code",
   "execution_count": 5,
   "metadata": {},
   "outputs": [],
   "source": [
    "x_train,x_test,y_train,y_test = train_test_split(X,Y,random_state=0)"
   ]
  },
  {
   "cell_type": "markdown",
   "metadata": {},
   "source": [
    "**BUILDING VOCABULARY**"
   ]
  },
  {
   "cell_type": "code",
   "execution_count": 6,
   "metadata": {},
   "outputs": [
    {
     "name": "stdout",
     "output_type": "stream",
     "text": [
      "93499\n"
     ]
    }
   ],
   "source": [
    "# Going through all the documents and within a document we are going through each word\n",
    "# Building a dictionary vocab with the words and their counts\n",
    "# We will not include stop words and words whose length is less than 3\n",
    "'''\n",
    "    \\W -> Matches any non-alphanumeric character; this is equivalent to the class [^a-zA-Z0-9_].\n",
    "'''\n",
    "vocab = {}\n",
    "for doc in x_train:\n",
    "    doc= doc.lower()\n",
    "    stripped=re.split(r'\\W+',doc)\n",
    "    for word in stripped :\n",
    "        if(word.isalpha()) and (len(word)>2) and (word not in stop_words) :\n",
    "            vocab[word] = vocab.get(word,0) + 1\n",
    "            #print(word,end =\" \")\n",
    "    \n",
    "print(len(vocab))"
   ]
  },
  {
   "cell_type": "markdown",
   "metadata": {},
   "source": [
    "**BUILDING VOCABULARY WITH TOP 2000 WORDS**"
   ]
  },
  {
   "cell_type": "code",
   "execution_count": 7,
   "metadata": {},
   "outputs": [
    {
     "data": {
      "image/png": "[encoded data removed]",
      "text/plain": [
       "<Figure size 648x288 with 1 Axes>"
      ]
     },
     "metadata": {
      "needs_background": "light"
     },
     "output_type": "display_data"
    }
   ],
   "source": [
    "# We are considering only top 2000 words in our vocabulary because as we are taking more words after 2000 their frequency is \n",
    "#very less as you can see in below plot and if we create training matrix using that column corresponding \n",
    "#to this word will contain mostly zeros. So no need to add furher words bcz they will not affect our classification algorithm.\n",
    "\n",
    "sorted_tuples = sorted(vocab.items(), key=lambda item: item[1],reverse = True)\n",
    "vocab = {k: v for k, v in sorted_tuples}\n",
    "df = pd.DataFrame(list(vocab.items()))\n",
    "freq = df[1]\n",
    "words_count = list(df.index)\n",
    "plt.figure(figsize =(9, 4))\n",
    "plt.axis([0,8000, 1, 4000])\n",
    "plt.plot(words_count, freq)\n",
    "plt.grid()\n",
    "plt.show()\n",
    "\n",
    "# final vocabulary is dictionary it will contain all top 2000 words as key and an index corresponding to each keys\n",
    "final_vocab ={}\n",
    "index = 0\n",
    "for i , j in vocab.items() :\n",
    "    final_vocab[i] = index\n",
    "    index += 1\n",
    "    if index == 2000 :\n",
    "        break"
   ]
  },
  {
   "cell_type": "markdown",
   "metadata": {},
   "source": [
    "**CREATING X_TRAIN , Y_TRAIN DATASET**\n"
   ]
  },
  {
   "cell_type": "code",
   "execution_count": 8,
   "metadata": {},
   "outputs": [
    {
     "name": "stdout",
     "output_type": "stream",
     "text": [
      "(14997, 2000)\n",
      "14997\n"
     ]
    }
   ],
   "source": [
    "# creating x_train datset with 14997 rows for each document and 2000 column for each word\n",
    "# doc_no will be row number and value in final_vocab dictionary will be column number\n",
    "# In y train row number will be the output of corresponding row of x_train\n",
    "doc_no = 0\n",
    "X_train = np.full((len(x_train),2000),0)\n",
    "Y_train = np.empty(len(y_train), dtype='<U30')\n",
    "for doc in x_train:\n",
    "    doc= doc.lower()\n",
    "    stripped=re.split(r'\\W+',doc)\n",
    "    for word in stripped :\n",
    "        if final_vocab.get(word,None) is not None :\n",
    "              idx = final_vocab[word]\n",
    "              X_train[doc_no][idx] += 1\n",
    "    Y_train[doc_no] = y_train[doc_no]\n",
    "    doc_no += 1\n",
    "    \n",
    "print(X_train.shape)\n",
    "print(len(Y_train))"
   ]
  },
  {
   "cell_type": "markdown",
   "metadata": {},
   "source": [
    "**CREATING X_TEST , Y_TEST DATASET**"
   ]
  },
  {
   "cell_type": "code",
   "execution_count": 9,
   "metadata": {},
   "outputs": [
    {
     "name": "stdout",
     "output_type": "stream",
     "text": [
      "(5000, 2000)\n",
      "5000\n"
     ]
    }
   ],
   "source": [
    "doc_no = 0\n",
    "X_test = np.full((len(x_test),2000),0)\n",
    "Y_test = np.empty(len(y_test), dtype='<U30')\n",
    "for doc in x_test:\n",
    "    doc= doc.lower()\n",
    "    stripped=re.split(r'\\W+',doc)\n",
    "    for word in stripped :\n",
    "        if final_vocab.get(word,None) is not None :\n",
    "              idx = final_vocab[word]\n",
    "              X_test[doc_no][idx] += 1\n",
    "    Y_test[doc_no] = y_test[doc_no]\n",
    "    doc_no += 1\n",
    "    \n",
    "print(X_test.shape)\n",
    "print(len(Y_test))"
   ]
  },
  {
   "cell_type": "code",
   "execution_count": 10,
   "metadata": {},
   "outputs": [
    {
     "data": {
      "text/html": [
       "<div>\n",
       "<style scoped>\n",
       "    .dataframe tbody tr th:only-of-type {\n",
       "        vertical-align: middle;\n",
       "    }\n",
       "\n",
       "    .dataframe tbody tr th {\n",
       "        vertical-align: top;\n",
       "    }\n",
       "\n",
       "    .dataframe thead th {\n",
       "        text-align: right;\n",
       "    }\n",
       "</style>\n",
       "<table border=\"1\" class=\"dataframe\">\n",
       "  <thead>\n",
       "    <tr style=\"text-align: right;\">\n",
       "      <th></th>\n",
       "      <th>0</th>\n",
       "      <th>1</th>\n",
       "      <th>2</th>\n",
       "      <th>3</th>\n",
       "      <th>4</th>\n",
       "      <th>5</th>\n",
       "      <th>6</th>\n",
       "      <th>7</th>\n",
       "      <th>8</th>\n",
       "      <th>9</th>\n",
       "      <th>...</th>\n",
       "      <th>1990</th>\n",
       "      <th>1991</th>\n",
       "      <th>1992</th>\n",
       "      <th>1993</th>\n",
       "      <th>1994</th>\n",
       "      <th>1995</th>\n",
       "      <th>1996</th>\n",
       "      <th>1997</th>\n",
       "      <th>1998</th>\n",
       "      <th>1999</th>\n",
       "    </tr>\n",
       "  </thead>\n",
       "  <tbody>\n",
       "    <tr>\n",
       "      <th>0</th>\n",
       "      <td>9</td>\n",
       "      <td>2</td>\n",
       "      <td>3</td>\n",
       "      <td>1</td>\n",
       "      <td>2</td>\n",
       "      <td>2</td>\n",
       "      <td>4</td>\n",
       "      <td>1</td>\n",
       "      <td>1</td>\n",
       "      <td>1</td>\n",
       "      <td>...</td>\n",
       "      <td>0</td>\n",
       "      <td>0</td>\n",
       "      <td>0</td>\n",
       "      <td>0</td>\n",
       "      <td>0</td>\n",
       "      <td>0</td>\n",
       "      <td>0</td>\n",
       "      <td>0</td>\n",
       "      <td>0</td>\n",
       "      <td>0</td>\n",
       "    </tr>\n",
       "    <tr>\n",
       "      <th>1</th>\n",
       "      <td>4</td>\n",
       "      <td>1</td>\n",
       "      <td>4</td>\n",
       "      <td>2</td>\n",
       "      <td>1</td>\n",
       "      <td>1</td>\n",
       "      <td>1</td>\n",
       "      <td>1</td>\n",
       "      <td>1</td>\n",
       "      <td>1</td>\n",
       "      <td>...</td>\n",
       "      <td>0</td>\n",
       "      <td>0</td>\n",
       "      <td>0</td>\n",
       "      <td>0</td>\n",
       "      <td>0</td>\n",
       "      <td>0</td>\n",
       "      <td>0</td>\n",
       "      <td>0</td>\n",
       "      <td>0</td>\n",
       "      <td>0</td>\n",
       "    </tr>\n",
       "    <tr>\n",
       "      <th>2</th>\n",
       "      <td>2</td>\n",
       "      <td>2</td>\n",
       "      <td>8</td>\n",
       "      <td>0</td>\n",
       "      <td>2</td>\n",
       "      <td>2</td>\n",
       "      <td>1</td>\n",
       "      <td>1</td>\n",
       "      <td>1</td>\n",
       "      <td>1</td>\n",
       "      <td>...</td>\n",
       "      <td>0</td>\n",
       "      <td>0</td>\n",
       "      <td>0</td>\n",
       "      <td>0</td>\n",
       "      <td>0</td>\n",
       "      <td>0</td>\n",
       "      <td>0</td>\n",
       "      <td>0</td>\n",
       "      <td>0</td>\n",
       "      <td>0</td>\n",
       "    </tr>\n",
       "    <tr>\n",
       "      <th>3</th>\n",
       "      <td>12</td>\n",
       "      <td>3</td>\n",
       "      <td>0</td>\n",
       "      <td>1</td>\n",
       "      <td>1</td>\n",
       "      <td>1</td>\n",
       "      <td>1</td>\n",
       "      <td>1</td>\n",
       "      <td>1</td>\n",
       "      <td>1</td>\n",
       "      <td>...</td>\n",
       "      <td>0</td>\n",
       "      <td>0</td>\n",
       "      <td>0</td>\n",
       "      <td>0</td>\n",
       "      <td>0</td>\n",
       "      <td>0</td>\n",
       "      <td>0</td>\n",
       "      <td>0</td>\n",
       "      <td>0</td>\n",
       "      <td>0</td>\n",
       "    </tr>\n",
       "    <tr>\n",
       "      <th>4</th>\n",
       "      <td>6</td>\n",
       "      <td>3</td>\n",
       "      <td>0</td>\n",
       "      <td>1</td>\n",
       "      <td>1</td>\n",
       "      <td>1</td>\n",
       "      <td>0</td>\n",
       "      <td>1</td>\n",
       "      <td>1</td>\n",
       "      <td>1</td>\n",
       "      <td>...</td>\n",
       "      <td>0</td>\n",
       "      <td>0</td>\n",
       "      <td>0</td>\n",
       "      <td>0</td>\n",
       "      <td>0</td>\n",
       "      <td>0</td>\n",
       "      <td>0</td>\n",
       "      <td>0</td>\n",
       "      <td>0</td>\n",
       "      <td>0</td>\n",
       "    </tr>\n",
       "  </tbody>\n",
       "</table>\n",
       "<p>5 rows × 2000 columns</p>\n",
       "</div>"
      ],
      "text/plain": [
       "   0     1     2     3     4     5     6     7     8     9     ...   1990  \\\n",
       "0     9     2     3     1     2     2     4     1     1     1  ...      0   \n",
       "1     4     1     4     2     1     1     1     1     1     1  ...      0   \n",
       "2     2     2     8     0     2     2     1     1     1     1  ...      0   \n",
       "3    12     3     0     1     1     1     1     1     1     1  ...      0   \n",
       "4     6     3     0     1     1     1     0     1     1     1  ...      0   \n",
       "\n",
       "   1991  1992  1993  1994  1995  1996  1997  1998  1999  \n",
       "0     0     0     0     0     0     0     0     0     0  \n",
       "1     0     0     0     0     0     0     0     0     0  \n",
       "2     0     0     0     0     0     0     0     0     0  \n",
       "3     0     0     0     0     0     0     0     0     0  \n",
       "4     0     0     0     0     0     0     0     0     0  \n",
       "\n",
       "[5 rows x 2000 columns]"
      ]
     },
     "execution_count": 10,
     "metadata": {},
     "output_type": "execute_result"
    }
   ],
   "source": [
    "# This is how our data set look like\n",
    "# columns numbers represent indexes corresponding to all diff 2000 words\n",
    "#in dictionary\n",
    "# each row number represents a document\n",
    "# and the value stored at (i,j) is count of jth word in document i\n",
    "df = pd.DataFrame(X_train)\n",
    "df.head()"
   ]
  },
  {
   "cell_type": "markdown",
   "metadata": {},
   "source": [
    "# MULTINOMIAL NAIVE BAYES ML MODEL"
   ]
  },
  {
   "cell_type": "markdown",
   "metadata": {},
   "source": [
    "**STRUCTURE OF RESULT DICTIONARY**\n",
    "\n",
    "**result**  -> total data ,  vocab_size  ,**class_1 ,  class_2 ,  class_3  ... class_n**\n",
    "\n",
    "**class_1** -> current_class_count  ,total_count,   word1(feature1),   word2(feature2)   , ...... word2000(feature200)\n",
    "\n",
    "\"total_data\" is total number of documnets.\n",
    "\n",
    "\"vocab_size\" is total words present in vocabulary\n",
    "\n",
    "\"current_class_count\" is total number of documents in class_1\n",
    "\n",
    "\"total_count\" is count of total words in class_1\n",
    "\n",
    "\"word1(feature1)\" is count of word_1 in class_1"
   ]
  },
  {
   "cell_type": "code",
   "execution_count": 11,
   "metadata": {},
   "outputs": [],
   "source": [
    "# fit fnction returns a dictionary\n",
    "def fit(X_train, Y_train):\n",
    "    count = {}\n",
    "    vocab_size = 0  # total number of words present in Vocab\n",
    "    count[\"total_data\"] = len(Y_train) # total number of documents\n",
    "    class_values = set(Y_train)\n",
    "    for current_class in class_values:\n",
    "        count[current_class] = {}\n",
    "        current_class_rows = (Y_train == current_class)\n",
    "        \n",
    "        # Get X_train corresponding to current_class\n",
    "        X_train_current = X_train[current_class_rows]\n",
    "        Y_train_current = Y_train[current_class_rows]\n",
    "        \n",
    "        # total no. of documents of current_class\n",
    "        count[current_class][\"current_class_count\"] = len(Y_train_current)\n",
    "        \n",
    "        # Iterate over all words and store its frequency\n",
    "        num_features = X_train.shape[1]\n",
    "        total_current_class_words = 0\n",
    "        for j in range(1, num_features + 1):\n",
    "            # store frequency of j th word(feature) corresponding to current_class \n",
    "            count[current_class][j] = X_train_current[:, j-1].sum()\n",
    "            total_current_class_words += X_train_current[:, j-1].sum()\n",
    "            \n",
    "        # store total words of a current_class also\n",
    "        count[current_class][\"total_count\"] = total_current_class_words\n",
    "        vocab_size += total_current_class_words\n",
    "    count[\"vocab_size\"] = vocab_size\n",
    "    return count # returns dictionary created"
   ]
  },
  {
   "cell_type": "code",
   "execution_count": 12,
   "metadata": {},
   "outputs": [],
   "source": [
    "def probability(dictionary, x, current_class):\n",
    "    #  log( P(y=current_class) )\n",
    "    output = np.log(dictionary[current_class]['current_class_count']) - np.log(dictionary[\"total_data\"]) \n",
    "    \n",
    "    num_features = len(dictionary[current_class].keys()) - 2  # -2 bcz 2 keys are total_count and current_class_count\n",
    "    for j in range(1,num_features+1):\n",
    "        xj = x[j-1]\n",
    "        if xj == 0: # word not in test data document\n",
    "            continue\n",
    "            \n",
    "        '''\n",
    "            word is present as a feature. So add its corresponding logarithmic probability\n",
    "            Also use laplace correction i.e\n",
    "            log( P(w1|y=current_class) ) = log( count of all w1 corresponding \n",
    "                                                to current_class + 1)\n",
    "                                                      -\n",
    "                                            log( count of all words of current_class\n",
    "                                                 + size of vocabulary)\n",
    "        '''  \n",
    "        count_jth_word_in_current_class = dictionary[current_class][j] + 1  # +1 bcz of laplace correction\n",
    "        count_current_class = dictionary[current_class][\"total_count\"] + dictionary[\"vocab_size\"]\n",
    "        count_xj_probability = np.log(count_jth_word_in_current_class) - np.log(count_current_class)\n",
    "        output = output + count_xj_probability\n",
    "    \n",
    "    return output"
   ]
  },
  {
   "cell_type": "code",
   "execution_count": 13,
   "metadata": {},
   "outputs": [],
   "source": [
    "def predictSinglePoint(dictionary, x):\n",
    "    classes = dictionary.keys()\n",
    "    best_p = -1000   # Initially\n",
    "    best_class = -1\n",
    "    first_run = True  # Bcz best_p should be changed for the first time\n",
    "    for current_class in classes:\n",
    "        if current_class == \"vocab_size\" or current_class==\"total_data\":\n",
    "            continue\n",
    "            \n",
    "        # Find logarithmic probability of current_class\n",
    "        p_current_class = probability(dictionary, x, current_class)\n",
    "        if (first_run or p_current_class > best_p):\n",
    "            best_p = p_current_class\n",
    "            best_class = current_class\n",
    "        first_run = False  # bcz we done for 1st time\n",
    "    return best_class"
   ]
  },
  {
   "cell_type": "code",
   "execution_count": 14,
   "metadata": {},
   "outputs": [],
   "source": [
    "def predict(dictionary, X_test):\n",
    "    y_pred = []\n",
    "    for x in X_test:\n",
    "        x_class = predictSinglePoint(dictionary, x)\n",
    "        y_pred.append(x_class)\n",
    "    return y_pred"
   ]
  },
  {
   "cell_type": "markdown",
   "metadata": {},
   "source": [
    "## Finding predictions using our own Multionomial classifier"
   ]
  },
  {
   "cell_type": "code",
   "execution_count": 15,
   "metadata": {},
   "outputs": [],
   "source": [
    "dictionary = fit(X_train, Y_train)"
   ]
  },
  {
   "cell_type": "code",
   "execution_count": 16,
   "metadata": {},
   "outputs": [],
   "source": [
    "Y_pred = predict(dictionary, X_test)"
   ]
  },
  {
   "cell_type": "code",
   "execution_count": 17,
   "metadata": {},
   "outputs": [
    {
     "name": "stdout",
     "output_type": "stream",
     "text": [
      "[[176   0   0   0   0   1   0   0   0   0   0   0   0   0   0   0   0   1\n",
      "   10  45]\n",
      " [  0 184   2   7   0  34   0   0   0   0   0  17   0   0   1   0   0   0\n",
      "    8   0]\n",
      " [  0  23 112   9   0  76   0   0   0   0   0  18   0   0   1   0   1   0\n",
      "    9   0]\n",
      " [  0   8   1 204   3   8   2   0   0   0   0  10   0   0   0   0   0   0\n",
      "    4   0]\n",
      " [  0   6   1  42 152  15   2   0   0   0   0  10   1   0   0   0   1   1\n",
      "    5   0]\n",
      " [  0   8   4   3   0 218   1   0   0   0   0   4   0   0   0   0   0   0\n",
      "    2   0]\n",
      " [  0   1   1  18   0   1 180   3   0   0   0   6   7   0   2   0   1   0\n",
      "   41   0]\n",
      " [  0   1   0   0   0   1   5 191   0   0   1   2   3   1   1   0  24   2\n",
      "   37   0]\n",
      " [  4   1   0   0   0   0   1  11 165   0   0   8   0   1   0   0  25   2\n",
      "   66   0]\n",
      " [  0   0   0   0   0   0   0   0   0 190  26   0   0   0   1   0   1   1\n",
      "   29   0]\n",
      " [  0   0   0   0   0   0   0   0   0   0 221   0   0   0   0   0   1   0\n",
      "    9   0]\n",
      " [  0   1   0   0   0   0   0   0   0   0   0 229   0   0   0   0   0   0\n",
      "    3   0]\n",
      " [  0   6   0   3   0   0   0   0   0   1   0  55 137   2   7   0   2   2\n",
      "   28   1]\n",
      " [  0   4   0   0   0   1   0   0   0   0   0   9   0 172   2   0   1   3\n",
      "   59   5]\n",
      " [  0   1   0   0   0   0   0   0   0   0   0   6   0   0 205   0   2   1\n",
      "   31   0]\n",
      " [  0   0   0   0   0   0   0   0   0   0   0   0   0   0   0 251   0   0\n",
      "    1   0]\n",
      " [  0   0   0   0   0   0   0   0   0   0   0   2   0   0   0   0 157   2\n",
      "   85   3]\n",
      " [  0   0   0   0   0   0   0   0   0   0   0   0   0   0   0   0   0 265\n",
      "   16   0]\n",
      " [  0   0   0   0   0   0   0   0   0   0   0   1   0   0   0   0   7  14\n",
      "  232   5]\n",
      " [ 36   0   0   0   0   0   0   0   0   0   0   2   0   0   0   3   7   5\n",
      "   50 133]]\n"
     ]
    }
   ],
   "source": [
    "print(confusion_matrix(Y_test, Y_pred))"
   ]
  },
  {
   "cell_type": "code",
   "execution_count": 18,
   "metadata": {},
   "outputs": [
    {
     "name": "stdout",
     "output_type": "stream",
     "text": [
      "                          precision    recall  f1-score   support\n",
      "\n",
      "             alt.atheism       0.81      0.76      0.78       233\n",
      "           comp.graphics       0.75      0.73      0.74       253\n",
      " comp.os.ms-windows.misc       0.93      0.45      0.61       249\n",
      "comp.sys.ibm.pc.hardware       0.71      0.85      0.78       240\n",
      "   comp.sys.mac.hardware       0.98      0.64      0.78       236\n",
      "          comp.windows.x       0.61      0.91      0.73       240\n",
      "            misc.forsale       0.94      0.69      0.80       261\n",
      "               rec.autos       0.93      0.71      0.81       269\n",
      "         rec.motorcycles       1.00      0.58      0.73       284\n",
      "      rec.sport.baseball       0.99      0.77      0.87       248\n",
      "        rec.sport.hockey       0.89      0.96      0.92       231\n",
      "               sci.crypt       0.60      0.98      0.75       233\n",
      "         sci.electronics       0.93      0.56      0.70       244\n",
      "                 sci.med       0.98      0.67      0.80       256\n",
      "               sci.space       0.93      0.83      0.88       246\n",
      "  soc.religion.christian       0.99      1.00      0.99       252\n",
      "      talk.politics.guns       0.68      0.63      0.66       249\n",
      "   talk.politics.mideast       0.89      0.94      0.91       281\n",
      "      talk.politics.misc       0.32      0.90      0.47       259\n",
      "      talk.religion.misc       0.69      0.56      0.62       236\n",
      "\n",
      "             avg / total       0.83      0.75      0.77      5000\n",
      "\n"
     ]
    }
   ],
   "source": [
    "print(classification_report(Y_test, Y_pred))"
   ]
  },
  {
   "cell_type": "markdown",
   "metadata": {},
   "source": [
    "## Using Inbuilt Multionomial Naive Bayes Classifier"
   ]
  },
  {
   "cell_type": "code",
   "execution_count": 19,
   "metadata": {},
   "outputs": [],
   "source": [
    "clf = MultinomialNB()"
   ]
  },
  {
   "cell_type": "code",
   "execution_count": 20,
   "metadata": {},
   "outputs": [
    {
     "data": {
      "text/plain": [
       "MultinomialNB(alpha=1.0, class_prior=None, fit_prior=True)"
      ]
     },
     "execution_count": 20,
     "metadata": {},
     "output_type": "execute_result"
    }
   ],
   "source": [
    "clf.fit(X_train, Y_train)"
   ]
  },
  {
   "cell_type": "code",
   "execution_count": 21,
   "metadata": {},
   "outputs": [],
   "source": [
    "Y_pred = clf.predict(X_test)"
   ]
  },
  {
   "cell_type": "code",
   "execution_count": 22,
   "metadata": {},
   "outputs": [
    {
     "name": "stdout",
     "output_type": "stream",
     "text": [
      "[[195   0   0   0   0   0   0   4   1   0   0   0   0   1   0   1   0   0\n",
      "    0  31]\n",
      " [  0 203  12  21   3   8   2   2   0   1   0   0   0   1   0   0   0   0\n",
      "    0   0]\n",
      " [  0   8 195  19   5  14   3   1   0   0   0   0   2   1   1   0   0   0\n",
      "    0   0]\n",
      " [  0   1   3 196  32   0   5   0   1   0   0   0   2   0   0   0   0   0\n",
      "    0   0]\n",
      " [  0   2   0  23 205   0   5   0   0   0   0   0   1   0   0   0   0   0\n",
      "    0   0]\n",
      " [  0  17  18  14   9 169   3   0   2   1   0   1   3   1   2   0   0   0\n",
      "    0   0]\n",
      " [  0   0   0   7   3   0 237   5   1   0   1   0   5   0   1   0   1   0\n",
      "    0   0]\n",
      " [  0   0   0   1   1   0  11 247   3   1   1   0   4   0   0   0   0   0\n",
      "    0   0]\n",
      " [  0   0   0   0   0   0   2   4 277   1   0   0   0   0   0   0   0   0\n",
      "    0   0]\n",
      " [  0   0   0   0   0   0   2   4   2 227  12   0   0   0   1   0   0   0\n",
      "    0   0]\n",
      " [  0   0   0   0   0   0   0   0   2   7 221   0   0   0   1   0   0   0\n",
      "    0   0]\n",
      " [  0   3   0   0   0   2   1   0   0   0   0 224   2   1   0   0   0   0\n",
      "    0   0]\n",
      " [  0   2   0  10   3   0   2   7   2   1   0   0 214   2   1   0   0   0\n",
      "    0   0]\n",
      " [  0   3   0   2   6   1   1   3   9   3   0   1   3 219   4   0   0   1\n",
      "    0   0]\n",
      " [  0   1   0   1   0   0   1   2   2   2   1   0   4   3 227   0   1   0\n",
      "    1   0]\n",
      " [  0   0   0   0   0   0   0   0   0   0   0   0   0   0   0 252   0   0\n",
      "    0   0]\n",
      " [  0   0   0   1   0   0   0   0   3   0   0   3   0   0   0   0 223   0\n",
      "   14   5]\n",
      " [  0   0   0   1   1   0   3   3   1   2   1   0   0   1   1   0   6 238\n",
      "   21   2]\n",
      " [  0   0   0   0   0   0   1   0   0   1   0   4   0   3   2   2  33  15\n",
      "  177  21]\n",
      " [ 45   1   0   0   0   0   1   0   0   0   1   0   1   1   0  10  11   2\n",
      "   21 142]]\n"
     ]
    }
   ],
   "source": [
    "print(confusion_matrix(Y_test, Y_pred))"
   ]
  },
  {
   "cell_type": "code",
   "execution_count": 23,
   "metadata": {},
   "outputs": [
    {
     "name": "stdout",
     "output_type": "stream",
     "text": [
      "                          precision    recall  f1-score   support\n",
      "\n",
      "             alt.atheism       0.81      0.84      0.82       233\n",
      "           comp.graphics       0.84      0.80      0.82       253\n",
      " comp.os.ms-windows.misc       0.86      0.78      0.82       249\n",
      "comp.sys.ibm.pc.hardware       0.66      0.82      0.73       240\n",
      "   comp.sys.mac.hardware       0.76      0.87      0.81       236\n",
      "          comp.windows.x       0.87      0.70      0.78       240\n",
      "            misc.forsale       0.85      0.91      0.88       261\n",
      "               rec.autos       0.88      0.92      0.90       269\n",
      "         rec.motorcycles       0.91      0.98      0.94       284\n",
      "      rec.sport.baseball       0.92      0.92      0.92       248\n",
      "        rec.sport.hockey       0.93      0.96      0.94       231\n",
      "               sci.crypt       0.96      0.96      0.96       233\n",
      "         sci.electronics       0.89      0.88      0.88       244\n",
      "                 sci.med       0.94      0.86      0.89       256\n",
      "               sci.space       0.94      0.92      0.93       246\n",
      "  soc.religion.christian       0.95      1.00      0.97       252\n",
      "      talk.politics.guns       0.81      0.90      0.85       249\n",
      "   talk.politics.mideast       0.93      0.85      0.89       281\n",
      "      talk.politics.misc       0.76      0.68      0.72       259\n",
      "      talk.religion.misc       0.71      0.60      0.65       236\n",
      "\n",
      "             avg / total       0.86      0.86      0.86      5000\n",
      "\n"
     ]
    }
   ],
   "source": [
    "print(classification_report(Y_test, Y_pred))"
   ]
  },
  {
   "cell_type": "markdown",
   "metadata": {},
   "source": [
    "## Comparison between inbuilt and our own builtN classifier\n"
   ]
  },
  {
   "cell_type": "markdown",
   "metadata": {},
   "source": [
    "**From above results we see that inbuilt Multinomial naive bayes has acuuracy of 86%**\n",
    "\n",
    "\n",
    "**Where as accuracy achieved using our own Multinomial classifier is 75%**"
   ]
  }
 ],
 "metadata": {
  "kernelspec": {
   "display_name": "Python 3",
   "language": "python",
   "name": "python3"
  },
  "language_info": {
   "codemirror_mode": {
    "name": "ipython",
    "version": 3
   },
   "file_extension": ".py",
   "mimetype": "text/x-python",
   "name": "python",
   "nbconvert_exporter": "python",
   "pygments_lexer": "ipython3",
   "version": "3.7.0"
  }
 },
 "nbformat": 4,
 "nbformat_minor": 2
}
